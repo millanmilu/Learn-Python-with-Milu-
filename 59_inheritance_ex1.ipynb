{
 "cells": [
  {
   "cell_type": "code",
   "execution_count": null,
   "metadata": {},
   "outputs": [],
   "source": [
    "class Person():\n",
    "\n",
    "    # Constructor\n",
    "    def __init__(self, name):\n",
    "        self.name = name\n",
    "\n",
    "        # To get name\n",
    "\n",
    "    def getName(self):\n",
    "        return self.name\n",
    "\n",
    "        # To check if this person is employee\n",
    "\n",
    "    def isEmployee(self):\n",
    "        return False\n",
    "\n",
    "class Employee(Person):\n",
    "    def isEmployee(self):\n",
    "        return True\n",
    "emp = Person(\"Geek1\")\n",
    "print(emp.getName(),emp.isEmployee())\n",
    "emp =Employee(\"Geek2\")\n",
    "print(emp.getName(),emp.isEmployee())"
   ]
  }
 ],
 "metadata": {
  "language": "python"
 },
 "nbformat": 4,
 "nbformat_minor": 2
}
